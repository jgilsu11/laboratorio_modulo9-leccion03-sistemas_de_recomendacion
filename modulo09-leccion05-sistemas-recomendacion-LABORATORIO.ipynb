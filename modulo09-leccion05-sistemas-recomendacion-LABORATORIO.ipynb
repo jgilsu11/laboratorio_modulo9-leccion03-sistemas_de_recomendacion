{
 "cells": [
  {
   "cell_type": "markdown",
   "metadata": {},
   "source": [
    "\n",
    "<div style=\"text-align: center;\">\n",
    "  <img src=\"https://github.com/Hack-io-Data/Imagenes/blob/main/01-LogosHackio/logo_naranja@4x.png?raw=true\" alt=\"esquema\" />\n",
    "</div>\n",
    "\n",
    "\n",
    "# Laboratorio de Sistemas de Recomendación\n",
    "\n",
    "## Objetivos del Laboratorio\n",
    "\n",
    "1.\tImplementar y comparar diferentes tipos de sistemas de recomendación utilizando datos reales.\n",
    "\n",
    "2.\tExplorar el impacto de las características de los datos en la calidad de las recomendaciones.\n",
    "\n",
    "3.\tDesarrollar habilidades en preprocesamiento, modelado y evaluación de sistemas de recomendación.\n",
    "\n",
    "\n",
    "## Los problemas\n",
    "\n",
    "A lo largo de este laboratorio deberás enfrentarte a distintos casos prácticos:\n",
    "\n",
    "- **Caso 1: Sistema de Recomendación Basado en Contenido**\n",
    "\n",
    "\tDebes construir un sistema que recomiende videojuegos similares basándose en su descripción y géneros. Para eso deberás:\n",
    "\n",
    "\t- Preprocesar las descripciones de los juegos (texto) utilizando técnicas de NLP aprendidas durante la clase.\n",
    "\n",
    "\t- Extraer y limpiar las etiquetas de género para su uso en el sistema de recomendación.\n",
    "\n",
    "\t- Implementar una métrica de similitud (como el coseno) para recomendar juegos similares.\n",
    "\n",
    "\t- Evaluar las recomendaciones generadas para un conjunto de juegos específicos.\n",
    "\n",
    "- **Caso 2: Sistema de Recomendación Basado en Popularidad**\n",
    "\n",
    "\tDebes un sistema que recomiende los juegos más populares según su calificación general y número de reseñas. Para eso deberás:\n",
    "\t\n",
    "\t- Limpiar y convertir las columnas relacionadas con las calificaciones y las reseñas en datos numéricos.\n",
    "\t\n",
    "\t- Identificar los juegos más populares utilizando métricas como la mediana de calificaciones ponderadas.\n",
    "\t\n",
    "\t- Crear una tabla de recomendaciones generales para diferentes géneros.\n",
    "\n",
    "## Los Datos\n",
    "\n",
    "\n",
    "- **1. games_description.csv**: Este archivo contiene información detallada sobre videojuegos disponibles en una tienda. Las columnas que tenemos son: \n",
    "\n",
    "\n",
    "\t- **`name`**: Nombre del videojuego.\n",
    "\n",
    "\t- **`short_description`**: Breve descripción del videojuego.\n",
    "\n",
    "\t- **`long_description`**: Descripción completa y detallada del videojuego.\n",
    "\n",
    "\t- **`genres`**: Lista de géneros asociados al videojuego (por ejemplo, Acción, RPG).\n",
    "\n",
    "\t- **`minimum_system_requirement`**: Requisitos mínimos para ejecutar el videojuego.\n",
    "\n",
    "\t- **`recommend_system_requirement`**: Requisitos recomendados para ejecutar el videojuego.\n",
    "\n",
    "\t- **`release_date`**: Fecha de lanzamiento del videojuego.\n",
    "\n",
    "\t- **`developer`**: Nombre del desarrollador del videojuego.\n",
    "\n",
    "\t- **`publisher`**: Nombre del publicador del videojuego.\n",
    "\n",
    "\t- **`overall_player_rating`**: Calificación general de los jugadores (categórica).\n",
    "\n",
    "\t- **`number_of_reviews_from_purchased_people`**: Número de reseñas realizadas por personas que compraron el juego.\n",
    "\n",
    "\t- **`number_of_english_reviews`**: Número de reseñas en inglés.\n",
    "\n",
    "\t- **`link`**: Enlace al videojuego en la tienda.\n",
    "\n",
    "\n",
    "- **2. games_ranking.csv**: Este archivo contiene información sobre el ranking de videojuegos basados en diferentes métricas. Las columnsa que tenemos son:\n",
    "\n",
    "\n",
    "\t- **`game_name`**: Nombre del videojuego.\n",
    "\n",
    "\t- **`genre`**: Género principal del videojuego.\n",
    "\n",
    "\t- **`rank_type`**: Tipo de ranking (por ejemplo, ventas, popularidad).\n",
    "\n",
    "\t- **`rank`**: Posición del videojuego en el ranking correspondiente.\n",
    "\n",
    "----\n",
    "\n",
    "- Los datos del archivo `games_description.csv` pueden utilizarse para construir sistemas de recomendación basados en contenido.\n",
    "- Los datos del archivo `games_ranking.csv` son ideales para implementar sistemas basados en popularidad.\n"
   ]
  },
  {
   "cell_type": "code",
   "execution_count": 1,
   "metadata": {},
   "outputs": [],
   "source": [
    "import pandas as pd \n",
    "import numpy as np \n",
    "import pickle \n",
    "import seaborn as sns\n",
    "import matplotlib.pyplot as plt\n",
    "from sklearn.feature_extraction.text import CountVectorizer\n",
    "from sklearn.metrics.pairwise import cosine_similarity\n",
    "from scipy.spatial.distance import pdist, squareform    #Para calcular distancias en varios plano (pdist), para medir distancia aplanando todo (squareform)\n",
    "import ast"
   ]
  },
  {
   "cell_type": "markdown",
   "metadata": {},
   "source": [
    "## Comenzamos con el sistema de recomendación de contenido"
   ]
  },
  {
   "cell_type": "code",
   "execution_count": 2,
   "metadata": {},
   "outputs": [],
   "source": [
    "datos=pd.read_csv(\"datos/games_description.csv\")"
   ]
  },
  {
   "cell_type": "code",
   "execution_count": 3,
   "metadata": {},
   "outputs": [
    {
     "data": {
      "text/html": [
       "<div>\n",
       "<style scoped>\n",
       "    .dataframe tbody tr th:only-of-type {\n",
       "        vertical-align: middle;\n",
       "    }\n",
       "\n",
       "    .dataframe tbody tr th {\n",
       "        vertical-align: top;\n",
       "    }\n",
       "\n",
       "    .dataframe thead th {\n",
       "        text-align: right;\n",
       "    }\n",
       "</style>\n",
       "<table border=\"1\" class=\"dataframe\">\n",
       "  <thead>\n",
       "    <tr style=\"text-align: right;\">\n",
       "      <th></th>\n",
       "      <th>name</th>\n",
       "      <th>short_description</th>\n",
       "      <th>long_description</th>\n",
       "      <th>genres</th>\n",
       "      <th>minimum_system_requirement</th>\n",
       "      <th>recommend_system_requirement</th>\n",
       "      <th>release_date</th>\n",
       "      <th>developer</th>\n",
       "      <th>publisher</th>\n",
       "      <th>overall_player_rating</th>\n",
       "      <th>number_of_reviews_from_purchased_people</th>\n",
       "      <th>number_of_english_reviews</th>\n",
       "      <th>link</th>\n",
       "    </tr>\n",
       "  </thead>\n",
       "  <tbody>\n",
       "    <tr>\n",
       "      <th>0</th>\n",
       "      <td>Black Myth: Wukong</td>\n",
       "      <td>Black Myth: Wukong is an action RPG rooted in ...</td>\n",
       "      <td>About This Game\\n\\t\\t\\t\\t\\t\\t\\tBlack Myth: Wuk...</td>\n",
       "      <td>['Mythology', 'Action RPG', 'Action', 'RPG', '...</td>\n",
       "      <td>['Requires a 64-bit processor and operating sy...</td>\n",
       "      <td>['Requires a 64-bit processor and operating sy...</td>\n",
       "      <td>19 Aug, 2024</td>\n",
       "      <td>['Game Science']</td>\n",
       "      <td>['Game Science']</td>\n",
       "      <td>Overwhelmingly Positive</td>\n",
       "      <td>(654,820)</td>\n",
       "      <td>51,931</td>\n",
       "      <td>https://store.steampowered.com/app/2358720/Bla...</td>\n",
       "    </tr>\n",
       "    <tr>\n",
       "      <th>1</th>\n",
       "      <td>Counter-Strike 2</td>\n",
       "      <td>For over two decades, Counter-Strike has offer...</td>\n",
       "      <td>About This Game\\n\\t\\t\\t\\t\\t\\t\\tFor over two de...</td>\n",
       "      <td>['FPS', 'Shooter', 'Multiplayer', 'Competitive...</td>\n",
       "      <td>['OS: Windows® 10', 'Processor: 4 hardware CPU...</td>\n",
       "      <td>['OS: Windows® 10', 'Processor: 4 hardware CPU...</td>\n",
       "      <td>21 Aug, 2012</td>\n",
       "      <td>['Valve']</td>\n",
       "      <td>['Valve']</td>\n",
       "      <td>Very Positive</td>\n",
       "      <td>(8,313,603)</td>\n",
       "      <td>2,258,990</td>\n",
       "      <td>https://store.steampowered.com/app/730/Counter...</td>\n",
       "    </tr>\n",
       "    <tr>\n",
       "      <th>2</th>\n",
       "      <td>Warhammer 40,000: Space Marine 2</td>\n",
       "      <td>Embody the superhuman skill and brutality of a...</td>\n",
       "      <td>About This Game\\nEmbody the superhuman skill a...</td>\n",
       "      <td>['Warhammer 40K', 'Action', 'Third-Person Shoo...</td>\n",
       "      <td>['Requires a 64-bit processor and operating sy...</td>\n",
       "      <td>['Requires a 64-bit processor and operating sy...</td>\n",
       "      <td>9 Sep, 2024</td>\n",
       "      <td>['Saber Interactive']</td>\n",
       "      <td>['Focus Entertainment']</td>\n",
       "      <td>Very Positive</td>\n",
       "      <td>(81% of 62,791) All Time</td>\n",
       "      <td>51,920</td>\n",
       "      <td>https://store.steampowered.com/app/2183900/War...</td>\n",
       "    </tr>\n",
       "    <tr>\n",
       "      <th>3</th>\n",
       "      <td>Cyberpunk 2077</td>\n",
       "      <td>Cyberpunk 2077 is an open-world, action-advent...</td>\n",
       "      <td>About This Game\\nCyberpunk 2077 is an open-wor...</td>\n",
       "      <td>['Cyberpunk', 'Open World', 'Nudity', 'RPG', '...</td>\n",
       "      <td>['Requires a 64-bit processor and operating sy...</td>\n",
       "      <td>['Requires a 64-bit processor and operating sy...</td>\n",
       "      <td>10 Dec, 2020</td>\n",
       "      <td>['CD PROJEKT RED']</td>\n",
       "      <td>['CD PROJEKT RED']</td>\n",
       "      <td>Very Positive</td>\n",
       "      <td>(680,264)</td>\n",
       "      <td>324,124</td>\n",
       "      <td>https://store.steampowered.com/app/1091500/Cyb...</td>\n",
       "    </tr>\n",
       "    <tr>\n",
       "      <th>4</th>\n",
       "      <td>ELDEN RING</td>\n",
       "      <td>THE CRITICALLY ACCLAIMED FANTASY ACTION RPG. R...</td>\n",
       "      <td>About This Game\\nTHE CRITICALLY ACCLAIMED FANT...</td>\n",
       "      <td>['Souls-like', 'Dark Fantasy', 'Open World', '...</td>\n",
       "      <td>['Requires a 64-bit processor and operating sy...</td>\n",
       "      <td>['Requires a 64-bit processor and operating sy...</td>\n",
       "      <td>25 Feb, 2022</td>\n",
       "      <td>['FromSoftware, Inc.']</td>\n",
       "      <td>['FromSoftware, Inc.', 'Bandai Namco Entertain...</td>\n",
       "      <td>Very Positive</td>\n",
       "      <td>(705,261)</td>\n",
       "      <td>491,741</td>\n",
       "      <td>https://store.steampowered.com/app/1245620/ELD...</td>\n",
       "    </tr>\n",
       "  </tbody>\n",
       "</table>\n",
       "</div>"
      ],
      "text/plain": [
       "                               name  \\\n",
       "0                Black Myth: Wukong   \n",
       "1                  Counter-Strike 2   \n",
       "2  Warhammer 40,000: Space Marine 2   \n",
       "3                    Cyberpunk 2077   \n",
       "4                        ELDEN RING   \n",
       "\n",
       "                                   short_description  \\\n",
       "0  Black Myth: Wukong is an action RPG rooted in ...   \n",
       "1  For over two decades, Counter-Strike has offer...   \n",
       "2  Embody the superhuman skill and brutality of a...   \n",
       "3  Cyberpunk 2077 is an open-world, action-advent...   \n",
       "4  THE CRITICALLY ACCLAIMED FANTASY ACTION RPG. R...   \n",
       "\n",
       "                                    long_description  \\\n",
       "0  About This Game\\n\\t\\t\\t\\t\\t\\t\\tBlack Myth: Wuk...   \n",
       "1  About This Game\\n\\t\\t\\t\\t\\t\\t\\tFor over two de...   \n",
       "2  About This Game\\nEmbody the superhuman skill a...   \n",
       "3  About This Game\\nCyberpunk 2077 is an open-wor...   \n",
       "4  About This Game\\nTHE CRITICALLY ACCLAIMED FANT...   \n",
       "\n",
       "                                              genres  \\\n",
       "0  ['Mythology', 'Action RPG', 'Action', 'RPG', '...   \n",
       "1  ['FPS', 'Shooter', 'Multiplayer', 'Competitive...   \n",
       "2  ['Warhammer 40K', 'Action', 'Third-Person Shoo...   \n",
       "3  ['Cyberpunk', 'Open World', 'Nudity', 'RPG', '...   \n",
       "4  ['Souls-like', 'Dark Fantasy', 'Open World', '...   \n",
       "\n",
       "                          minimum_system_requirement  \\\n",
       "0  ['Requires a 64-bit processor and operating sy...   \n",
       "1  ['OS: Windows® 10', 'Processor: 4 hardware CPU...   \n",
       "2  ['Requires a 64-bit processor and operating sy...   \n",
       "3  ['Requires a 64-bit processor and operating sy...   \n",
       "4  ['Requires a 64-bit processor and operating sy...   \n",
       "\n",
       "                        recommend_system_requirement  release_date  \\\n",
       "0  ['Requires a 64-bit processor and operating sy...  19 Aug, 2024   \n",
       "1  ['OS: Windows® 10', 'Processor: 4 hardware CPU...  21 Aug, 2012   \n",
       "2  ['Requires a 64-bit processor and operating sy...   9 Sep, 2024   \n",
       "3  ['Requires a 64-bit processor and operating sy...  10 Dec, 2020   \n",
       "4  ['Requires a 64-bit processor and operating sy...  25 Feb, 2022   \n",
       "\n",
       "                developer                                          publisher  \\\n",
       "0        ['Game Science']                                   ['Game Science']   \n",
       "1               ['Valve']                                          ['Valve']   \n",
       "2   ['Saber Interactive']                            ['Focus Entertainment']   \n",
       "3      ['CD PROJEKT RED']                                 ['CD PROJEKT RED']   \n",
       "4  ['FromSoftware, Inc.']  ['FromSoftware, Inc.', 'Bandai Namco Entertain...   \n",
       "\n",
       "     overall_player_rating number_of_reviews_from_purchased_people  \\\n",
       "0  Overwhelmingly Positive                               (654,820)   \n",
       "1            Very Positive                             (8,313,603)   \n",
       "2            Very Positive                (81% of 62,791) All Time   \n",
       "3            Very Positive                               (680,264)   \n",
       "4            Very Positive                               (705,261)   \n",
       "\n",
       "  number_of_english_reviews                                               link  \n",
       "0                    51,931  https://store.steampowered.com/app/2358720/Bla...  \n",
       "1                 2,258,990  https://store.steampowered.com/app/730/Counter...  \n",
       "2                    51,920  https://store.steampowered.com/app/2183900/War...  \n",
       "3                   324,124  https://store.steampowered.com/app/1091500/Cyb...  \n",
       "4                   491,741  https://store.steampowered.com/app/1245620/ELD...  "
      ]
     },
     "execution_count": 3,
     "metadata": {},
     "output_type": "execute_result"
    }
   ],
   "source": [
    "datos.head()"
   ]
  },
  {
   "cell_type": "markdown",
   "metadata": {},
   "source": [
    "### Posible tratamiento de Genre"
   ]
  },
  {
   "cell_type": "code",
   "execution_count": 4,
   "metadata": {},
   "outputs": [
    {
     "data": {
      "text/plain": [
       "\"['Mythology', 'Action RPG', 'Action', 'RPG', 'Souls-like', 'Combat', 'Story Rich', 'Singleplayer', 'Drama', 'Action-Adventure', 'Dark Fantasy', 'Atmospheric', 'Adventure', '3D', 'Fantasy', 'Hack and Slash', 'Third Person', 'Difficult', 'Music', 'Violent']\""
      ]
     },
     "execution_count": 4,
     "metadata": {},
     "output_type": "execute_result"
    }
   ],
   "source": [
    "datos[\"genres\"][0] "
   ]
  },
  {
   "cell_type": "code",
   "execution_count": 5,
   "metadata": {},
   "outputs": [
    {
     "data": {
      "text/plain": [
       "\"['FPS', 'Shooter', 'Multiplayer', 'Competitive', 'Action', 'Team-Based', 'eSports', 'Tactical', 'First-Person', 'PvP', 'Online Co-Op', 'Co-op', 'Strategy', 'Military', 'War', 'Difficult', 'Trading', 'Realistic', 'Fast-Paced', 'Moddable']\""
      ]
     },
     "execution_count": 5,
     "metadata": {},
     "output_type": "execute_result"
    }
   ],
   "source": [
    "datos[\"genres\"][1] "
   ]
  },
  {
   "cell_type": "code",
   "execution_count": 6,
   "metadata": {},
   "outputs": [
    {
     "data": {
      "text/plain": [
       "\"['Warhammer 40K', 'Action', 'Third-Person Shooter', 'Adventure', 'Multiplayer', 'Action-Adventure', 'PvE', 'Co-op', 'Third Person', 'Wargame', 'Sci-fi', '3D', 'Narration', 'Fantasy', 'Space', 'War', 'Realistic', 'Singleplayer', 'Cinematic', 'Futuristic']\""
      ]
     },
     "execution_count": 6,
     "metadata": {},
     "output_type": "execute_result"
    }
   ],
   "source": [
    "datos[\"genres\"][2] "
   ]
  },
  {
   "cell_type": "code",
   "execution_count": 7,
   "metadata": {},
   "outputs": [
    {
     "data": {
      "text/plain": [
       "'[\\'Casual\\', \\'3D\\', \\'RPG\\', \\'Social Deduction\\', \\'First-Person\\', \\'Multiplayer\\', \\'Comedy\\', \\'Party-Based RPG\\', \\'Tactical RPG\\', \\'Third Person\\', \"1990\\'s\", \\'Strategy\\', \\'Character Customization\\', \\'Online Co-Op\\', \\'Co-op\\', \\'Politics\\', \\'PvP\\', \\'Sexual Content\\']'"
      ]
     },
     "execution_count": 7,
     "metadata": {},
     "output_type": "execute_result"
    }
   ],
   "source": [
    "datos[\"genres\"][100] "
   ]
  },
  {
   "cell_type": "code",
   "execution_count": 8,
   "metadata": {},
   "outputs": [
    {
     "data": {
      "text/plain": [
       "\"['Souls-like', 'Dark Fantasy', 'Difficult', 'RPG', 'Atmospheric', 'Lore-Rich', 'Third Person', 'Exploration', 'Story Rich', 'Action RPG', 'Co-op', 'Great Soundtrack', 'Adventure', 'Action', 'Multiplayer', 'PvP', 'Open World', 'Singleplayer', 'Character Customization', 'Replay Value']\""
      ]
     },
     "execution_count": 8,
     "metadata": {},
     "output_type": "execute_result"
    }
   ],
   "source": [
    "datos[\"genres\"][113] "
   ]
  },
  {
   "cell_type": "markdown",
   "metadata": {},
   "source": [
    "## Explicación de porque no hago cambios a genre  \n",
    "  \n",
    "- ***Hemos identificado casos que pudieran suponer que era necesario hacer una limpieza de genre (\"Action\", \"RPG\", y \"Action RPG\") porque se estaría duplicando etc si otras columnas no lo tienen igual. Lo bueno, es que se ha identificado que tanto en el caso comentado como en casos como por ejemplo  \"Action-Adventure\" que tiene también \"Action\" y \"Adventure\" por separado.***  \n",
    "  \n",
    "Con esto, se concluye que en el momento en el que dos categorías como \"Action\" y \"Adventure\" aparecen como géneros de un juego, automaticamente aparece la categoría con ellos agrupados \"Action-Adventure\" y como eso es así en todas, no supone un inconveniente."
   ]
  },
  {
   "cell_type": "markdown",
   "metadata": {},
   "source": [
    "### Posible tratamiento de long_description  \n",
    "***Decido usar long_description porque short_description tiene nulos***"
   ]
  },
  {
   "cell_type": "code",
   "execution_count": 9,
   "metadata": {},
   "outputs": [],
   "source": [
    "# datos[\"long_description\"][0]"
   ]
  },
  {
   "cell_type": "code",
   "execution_count": 10,
   "metadata": {},
   "outputs": [],
   "source": [
    "datos[\"long_description\"]=datos[\"long_description\"].str.replace(\"About This Game\\n\", \"\")\n",
    "datos[\"long_description\"]=datos[\"long_description\"].str.replace(\"\\t\", \"\")"
   ]
  },
  {
   "cell_type": "code",
   "execution_count": 11,
   "metadata": {},
   "outputs": [
    {
     "data": {
      "text/plain": [
       "0    Black Myth: Wukong is an action RPG rooted in ...\n",
       "1    For over two decades, Counter-Strike has offer...\n",
       "2    Embody the superhuman skill and brutality of a...\n",
       "Name: long_description, dtype: object"
      ]
     },
     "execution_count": 11,
     "metadata": {},
     "output_type": "execute_result"
    }
   ],
   "source": [
    "datos[\"long_description\"][:3]"
   ]
  },
  {
   "cell_type": "markdown",
   "metadata": {},
   "source": [
    "### AHORA PASAMOS A LA CREACIÓN DEL SISTEMA DE RECOMENDACIÓN USANDO AMBAS GENRE Y LONG_DESCRIPTION"
   ]
  },
  {
   "cell_type": "code",
   "execution_count": 12,
   "metadata": {},
   "outputs": [],
   "source": [
    "datos['columnas_comparadoras'] = datos['genres'] + \" \" + datos['long_description']"
   ]
  },
  {
   "cell_type": "markdown",
   "metadata": {},
   "source": [
    "## Ahora ya especificamos el sistema de recomendación"
   ]
  },
  {
   "cell_type": "code",
   "execution_count": 13,
   "metadata": {},
   "outputs": [
    {
     "data": {
      "text/html": [
       "<style>#sk-container-id-1 {\n",
       "  /* Definition of color scheme common for light and dark mode */\n",
       "  --sklearn-color-text: black;\n",
       "  --sklearn-color-line: gray;\n",
       "  /* Definition of color scheme for unfitted estimators */\n",
       "  --sklearn-color-unfitted-level-0: #fff5e6;\n",
       "  --sklearn-color-unfitted-level-1: #f6e4d2;\n",
       "  --sklearn-color-unfitted-level-2: #ffe0b3;\n",
       "  --sklearn-color-unfitted-level-3: chocolate;\n",
       "  /* Definition of color scheme for fitted estimators */\n",
       "  --sklearn-color-fitted-level-0: #f0f8ff;\n",
       "  --sklearn-color-fitted-level-1: #d4ebff;\n",
       "  --sklearn-color-fitted-level-2: #b3dbfd;\n",
       "  --sklearn-color-fitted-level-3: cornflowerblue;\n",
       "\n",
       "  /* Specific color for light theme */\n",
       "  --sklearn-color-text-on-default-background: var(--sg-text-color, var(--theme-code-foreground, var(--jp-content-font-color1, black)));\n",
       "  --sklearn-color-background: var(--sg-background-color, var(--theme-background, var(--jp-layout-color0, white)));\n",
       "  --sklearn-color-border-box: var(--sg-text-color, var(--theme-code-foreground, var(--jp-content-font-color1, black)));\n",
       "  --sklearn-color-icon: #696969;\n",
       "\n",
       "  @media (prefers-color-scheme: dark) {\n",
       "    /* Redefinition of color scheme for dark theme */\n",
       "    --sklearn-color-text-on-default-background: var(--sg-text-color, var(--theme-code-foreground, var(--jp-content-font-color1, white)));\n",
       "    --sklearn-color-background: var(--sg-background-color, var(--theme-background, var(--jp-layout-color0, #111)));\n",
       "    --sklearn-color-border-box: var(--sg-text-color, var(--theme-code-foreground, var(--jp-content-font-color1, white)));\n",
       "    --sklearn-color-icon: #878787;\n",
       "  }\n",
       "}\n",
       "\n",
       "#sk-container-id-1 {\n",
       "  color: var(--sklearn-color-text);\n",
       "}\n",
       "\n",
       "#sk-container-id-1 pre {\n",
       "  padding: 0;\n",
       "}\n",
       "\n",
       "#sk-container-id-1 input.sk-hidden--visually {\n",
       "  border: 0;\n",
       "  clip: rect(1px 1px 1px 1px);\n",
       "  clip: rect(1px, 1px, 1px, 1px);\n",
       "  height: 1px;\n",
       "  margin: -1px;\n",
       "  overflow: hidden;\n",
       "  padding: 0;\n",
       "  position: absolute;\n",
       "  width: 1px;\n",
       "}\n",
       "\n",
       "#sk-container-id-1 div.sk-dashed-wrapped {\n",
       "  border: 1px dashed var(--sklearn-color-line);\n",
       "  margin: 0 0.4em 0.5em 0.4em;\n",
       "  box-sizing: border-box;\n",
       "  padding-bottom: 0.4em;\n",
       "  background-color: var(--sklearn-color-background);\n",
       "}\n",
       "\n",
       "#sk-container-id-1 div.sk-container {\n",
       "  /* jupyter's `normalize.less` sets `[hidden] { display: none; }`\n",
       "     but bootstrap.min.css set `[hidden] { display: none !important; }`\n",
       "     so we also need the `!important` here to be able to override the\n",
       "     default hidden behavior on the sphinx rendered scikit-learn.org.\n",
       "     See: https://github.com/scikit-learn/scikit-learn/issues/21755 */\n",
       "  display: inline-block !important;\n",
       "  position: relative;\n",
       "}\n",
       "\n",
       "#sk-container-id-1 div.sk-text-repr-fallback {\n",
       "  display: none;\n",
       "}\n",
       "\n",
       "div.sk-parallel-item,\n",
       "div.sk-serial,\n",
       "div.sk-item {\n",
       "  /* draw centered vertical line to link estimators */\n",
       "  background-image: linear-gradient(var(--sklearn-color-text-on-default-background), var(--sklearn-color-text-on-default-background));\n",
       "  background-size: 2px 100%;\n",
       "  background-repeat: no-repeat;\n",
       "  background-position: center center;\n",
       "}\n",
       "\n",
       "/* Parallel-specific style estimator block */\n",
       "\n",
       "#sk-container-id-1 div.sk-parallel-item::after {\n",
       "  content: \"\";\n",
       "  width: 100%;\n",
       "  border-bottom: 2px solid var(--sklearn-color-text-on-default-background);\n",
       "  flex-grow: 1;\n",
       "}\n",
       "\n",
       "#sk-container-id-1 div.sk-parallel {\n",
       "  display: flex;\n",
       "  align-items: stretch;\n",
       "  justify-content: center;\n",
       "  background-color: var(--sklearn-color-background);\n",
       "  position: relative;\n",
       "}\n",
       "\n",
       "#sk-container-id-1 div.sk-parallel-item {\n",
       "  display: flex;\n",
       "  flex-direction: column;\n",
       "}\n",
       "\n",
       "#sk-container-id-1 div.sk-parallel-item:first-child::after {\n",
       "  align-self: flex-end;\n",
       "  width: 50%;\n",
       "}\n",
       "\n",
       "#sk-container-id-1 div.sk-parallel-item:last-child::after {\n",
       "  align-self: flex-start;\n",
       "  width: 50%;\n",
       "}\n",
       "\n",
       "#sk-container-id-1 div.sk-parallel-item:only-child::after {\n",
       "  width: 0;\n",
       "}\n",
       "\n",
       "/* Serial-specific style estimator block */\n",
       "\n",
       "#sk-container-id-1 div.sk-serial {\n",
       "  display: flex;\n",
       "  flex-direction: column;\n",
       "  align-items: center;\n",
       "  background-color: var(--sklearn-color-background);\n",
       "  padding-right: 1em;\n",
       "  padding-left: 1em;\n",
       "}\n",
       "\n",
       "\n",
       "/* Toggleable style: style used for estimator/Pipeline/ColumnTransformer box that is\n",
       "clickable and can be expanded/collapsed.\n",
       "- Pipeline and ColumnTransformer use this feature and define the default style\n",
       "- Estimators will overwrite some part of the style using the `sk-estimator` class\n",
       "*/\n",
       "\n",
       "/* Pipeline and ColumnTransformer style (default) */\n",
       "\n",
       "#sk-container-id-1 div.sk-toggleable {\n",
       "  /* Default theme specific background. It is overwritten whether we have a\n",
       "  specific estimator or a Pipeline/ColumnTransformer */\n",
       "  background-color: var(--sklearn-color-background);\n",
       "}\n",
       "\n",
       "/* Toggleable label */\n",
       "#sk-container-id-1 label.sk-toggleable__label {\n",
       "  cursor: pointer;\n",
       "  display: block;\n",
       "  width: 100%;\n",
       "  margin-bottom: 0;\n",
       "  padding: 0.5em;\n",
       "  box-sizing: border-box;\n",
       "  text-align: center;\n",
       "}\n",
       "\n",
       "#sk-container-id-1 label.sk-toggleable__label-arrow:before {\n",
       "  /* Arrow on the left of the label */\n",
       "  content: \"▸\";\n",
       "  float: left;\n",
       "  margin-right: 0.25em;\n",
       "  color: var(--sklearn-color-icon);\n",
       "}\n",
       "\n",
       "#sk-container-id-1 label.sk-toggleable__label-arrow:hover:before {\n",
       "  color: var(--sklearn-color-text);\n",
       "}\n",
       "\n",
       "/* Toggleable content - dropdown */\n",
       "\n",
       "#sk-container-id-1 div.sk-toggleable__content {\n",
       "  max-height: 0;\n",
       "  max-width: 0;\n",
       "  overflow: hidden;\n",
       "  text-align: left;\n",
       "  /* unfitted */\n",
       "  background-color: var(--sklearn-color-unfitted-level-0);\n",
       "}\n",
       "\n",
       "#sk-container-id-1 div.sk-toggleable__content.fitted {\n",
       "  /* fitted */\n",
       "  background-color: var(--sklearn-color-fitted-level-0);\n",
       "}\n",
       "\n",
       "#sk-container-id-1 div.sk-toggleable__content pre {\n",
       "  margin: 0.2em;\n",
       "  border-radius: 0.25em;\n",
       "  color: var(--sklearn-color-text);\n",
       "  /* unfitted */\n",
       "  background-color: var(--sklearn-color-unfitted-level-0);\n",
       "}\n",
       "\n",
       "#sk-container-id-1 div.sk-toggleable__content.fitted pre {\n",
       "  /* unfitted */\n",
       "  background-color: var(--sklearn-color-fitted-level-0);\n",
       "}\n",
       "\n",
       "#sk-container-id-1 input.sk-toggleable__control:checked~div.sk-toggleable__content {\n",
       "  /* Expand drop-down */\n",
       "  max-height: 200px;\n",
       "  max-width: 100%;\n",
       "  overflow: auto;\n",
       "}\n",
       "\n",
       "#sk-container-id-1 input.sk-toggleable__control:checked~label.sk-toggleable__label-arrow:before {\n",
       "  content: \"▾\";\n",
       "}\n",
       "\n",
       "/* Pipeline/ColumnTransformer-specific style */\n",
       "\n",
       "#sk-container-id-1 div.sk-label input.sk-toggleable__control:checked~label.sk-toggleable__label {\n",
       "  color: var(--sklearn-color-text);\n",
       "  background-color: var(--sklearn-color-unfitted-level-2);\n",
       "}\n",
       "\n",
       "#sk-container-id-1 div.sk-label.fitted input.sk-toggleable__control:checked~label.sk-toggleable__label {\n",
       "  background-color: var(--sklearn-color-fitted-level-2);\n",
       "}\n",
       "\n",
       "/* Estimator-specific style */\n",
       "\n",
       "/* Colorize estimator box */\n",
       "#sk-container-id-1 div.sk-estimator input.sk-toggleable__control:checked~label.sk-toggleable__label {\n",
       "  /* unfitted */\n",
       "  background-color: var(--sklearn-color-unfitted-level-2);\n",
       "}\n",
       "\n",
       "#sk-container-id-1 div.sk-estimator.fitted input.sk-toggleable__control:checked~label.sk-toggleable__label {\n",
       "  /* fitted */\n",
       "  background-color: var(--sklearn-color-fitted-level-2);\n",
       "}\n",
       "\n",
       "#sk-container-id-1 div.sk-label label.sk-toggleable__label,\n",
       "#sk-container-id-1 div.sk-label label {\n",
       "  /* The background is the default theme color */\n",
       "  color: var(--sklearn-color-text-on-default-background);\n",
       "}\n",
       "\n",
       "/* On hover, darken the color of the background */\n",
       "#sk-container-id-1 div.sk-label:hover label.sk-toggleable__label {\n",
       "  color: var(--sklearn-color-text);\n",
       "  background-color: var(--sklearn-color-unfitted-level-2);\n",
       "}\n",
       "\n",
       "/* Label box, darken color on hover, fitted */\n",
       "#sk-container-id-1 div.sk-label.fitted:hover label.sk-toggleable__label.fitted {\n",
       "  color: var(--sklearn-color-text);\n",
       "  background-color: var(--sklearn-color-fitted-level-2);\n",
       "}\n",
       "\n",
       "/* Estimator label */\n",
       "\n",
       "#sk-container-id-1 div.sk-label label {\n",
       "  font-family: monospace;\n",
       "  font-weight: bold;\n",
       "  display: inline-block;\n",
       "  line-height: 1.2em;\n",
       "}\n",
       "\n",
       "#sk-container-id-1 div.sk-label-container {\n",
       "  text-align: center;\n",
       "}\n",
       "\n",
       "/* Estimator-specific */\n",
       "#sk-container-id-1 div.sk-estimator {\n",
       "  font-family: monospace;\n",
       "  border: 1px dotted var(--sklearn-color-border-box);\n",
       "  border-radius: 0.25em;\n",
       "  box-sizing: border-box;\n",
       "  margin-bottom: 0.5em;\n",
       "  /* unfitted */\n",
       "  background-color: var(--sklearn-color-unfitted-level-0);\n",
       "}\n",
       "\n",
       "#sk-container-id-1 div.sk-estimator.fitted {\n",
       "  /* fitted */\n",
       "  background-color: var(--sklearn-color-fitted-level-0);\n",
       "}\n",
       "\n",
       "/* on hover */\n",
       "#sk-container-id-1 div.sk-estimator:hover {\n",
       "  /* unfitted */\n",
       "  background-color: var(--sklearn-color-unfitted-level-2);\n",
       "}\n",
       "\n",
       "#sk-container-id-1 div.sk-estimator.fitted:hover {\n",
       "  /* fitted */\n",
       "  background-color: var(--sklearn-color-fitted-level-2);\n",
       "}\n",
       "\n",
       "/* Specification for estimator info (e.g. \"i\" and \"?\") */\n",
       "\n",
       "/* Common style for \"i\" and \"?\" */\n",
       "\n",
       ".sk-estimator-doc-link,\n",
       "a:link.sk-estimator-doc-link,\n",
       "a:visited.sk-estimator-doc-link {\n",
       "  float: right;\n",
       "  font-size: smaller;\n",
       "  line-height: 1em;\n",
       "  font-family: monospace;\n",
       "  background-color: var(--sklearn-color-background);\n",
       "  border-radius: 1em;\n",
       "  height: 1em;\n",
       "  width: 1em;\n",
       "  text-decoration: none !important;\n",
       "  margin-left: 1ex;\n",
       "  /* unfitted */\n",
       "  border: var(--sklearn-color-unfitted-level-1) 1pt solid;\n",
       "  color: var(--sklearn-color-unfitted-level-1);\n",
       "}\n",
       "\n",
       ".sk-estimator-doc-link.fitted,\n",
       "a:link.sk-estimator-doc-link.fitted,\n",
       "a:visited.sk-estimator-doc-link.fitted {\n",
       "  /* fitted */\n",
       "  border: var(--sklearn-color-fitted-level-1) 1pt solid;\n",
       "  color: var(--sklearn-color-fitted-level-1);\n",
       "}\n",
       "\n",
       "/* On hover */\n",
       "div.sk-estimator:hover .sk-estimator-doc-link:hover,\n",
       ".sk-estimator-doc-link:hover,\n",
       "div.sk-label-container:hover .sk-estimator-doc-link:hover,\n",
       ".sk-estimator-doc-link:hover {\n",
       "  /* unfitted */\n",
       "  background-color: var(--sklearn-color-unfitted-level-3);\n",
       "  color: var(--sklearn-color-background);\n",
       "  text-decoration: none;\n",
       "}\n",
       "\n",
       "div.sk-estimator.fitted:hover .sk-estimator-doc-link.fitted:hover,\n",
       ".sk-estimator-doc-link.fitted:hover,\n",
       "div.sk-label-container:hover .sk-estimator-doc-link.fitted:hover,\n",
       ".sk-estimator-doc-link.fitted:hover {\n",
       "  /* fitted */\n",
       "  background-color: var(--sklearn-color-fitted-level-3);\n",
       "  color: var(--sklearn-color-background);\n",
       "  text-decoration: none;\n",
       "}\n",
       "\n",
       "/* Span, style for the box shown on hovering the info icon */\n",
       ".sk-estimator-doc-link span {\n",
       "  display: none;\n",
       "  z-index: 9999;\n",
       "  position: relative;\n",
       "  font-weight: normal;\n",
       "  right: .2ex;\n",
       "  padding: .5ex;\n",
       "  margin: .5ex;\n",
       "  width: min-content;\n",
       "  min-width: 20ex;\n",
       "  max-width: 50ex;\n",
       "  color: var(--sklearn-color-text);\n",
       "  box-shadow: 2pt 2pt 4pt #999;\n",
       "  /* unfitted */\n",
       "  background: var(--sklearn-color-unfitted-level-0);\n",
       "  border: .5pt solid var(--sklearn-color-unfitted-level-3);\n",
       "}\n",
       "\n",
       ".sk-estimator-doc-link.fitted span {\n",
       "  /* fitted */\n",
       "  background: var(--sklearn-color-fitted-level-0);\n",
       "  border: var(--sklearn-color-fitted-level-3);\n",
       "}\n",
       "\n",
       ".sk-estimator-doc-link:hover span {\n",
       "  display: block;\n",
       "}\n",
       "\n",
       "/* \"?\"-specific style due to the `<a>` HTML tag */\n",
       "\n",
       "#sk-container-id-1 a.estimator_doc_link {\n",
       "  float: right;\n",
       "  font-size: 1rem;\n",
       "  line-height: 1em;\n",
       "  font-family: monospace;\n",
       "  background-color: var(--sklearn-color-background);\n",
       "  border-radius: 1rem;\n",
       "  height: 1rem;\n",
       "  width: 1rem;\n",
       "  text-decoration: none;\n",
       "  /* unfitted */\n",
       "  color: var(--sklearn-color-unfitted-level-1);\n",
       "  border: var(--sklearn-color-unfitted-level-1) 1pt solid;\n",
       "}\n",
       "\n",
       "#sk-container-id-1 a.estimator_doc_link.fitted {\n",
       "  /* fitted */\n",
       "  border: var(--sklearn-color-fitted-level-1) 1pt solid;\n",
       "  color: var(--sklearn-color-fitted-level-1);\n",
       "}\n",
       "\n",
       "/* On hover */\n",
       "#sk-container-id-1 a.estimator_doc_link:hover {\n",
       "  /* unfitted */\n",
       "  background-color: var(--sklearn-color-unfitted-level-3);\n",
       "  color: var(--sklearn-color-background);\n",
       "  text-decoration: none;\n",
       "}\n",
       "\n",
       "#sk-container-id-1 a.estimator_doc_link.fitted:hover {\n",
       "  /* fitted */\n",
       "  background-color: var(--sklearn-color-fitted-level-3);\n",
       "}\n",
       "</style><div id=\"sk-container-id-1\" class=\"sk-top-container\"><div class=\"sk-text-repr-fallback\"><pre>CountVectorizer(stop_words=&#x27;english&#x27;)</pre><b>In a Jupyter environment, please rerun this cell to show the HTML representation or trust the notebook. <br />On GitHub, the HTML representation is unable to render, please try loading this page with nbviewer.org.</b></div><div class=\"sk-container\" hidden><div class=\"sk-item\"><div class=\"sk-estimator  sk-toggleable\"><input class=\"sk-toggleable__control sk-hidden--visually\" id=\"sk-estimator-id-1\" type=\"checkbox\" checked><label for=\"sk-estimator-id-1\" class=\"sk-toggleable__label  sk-toggleable__label-arrow \">&nbsp;&nbsp;CountVectorizer<a class=\"sk-estimator-doc-link \" rel=\"noreferrer\" target=\"_blank\" href=\"https://scikit-learn.org/1.5/modules/generated/sklearn.feature_extraction.text.CountVectorizer.html\">?<span>Documentation for CountVectorizer</span></a><span class=\"sk-estimator-doc-link \">i<span>Not fitted</span></span></label><div class=\"sk-toggleable__content \"><pre>CountVectorizer(stop_words=&#x27;english&#x27;)</pre></div> </div></div></div></div>"
      ],
      "text/plain": [
       "CountVectorizer(stop_words='english')"
      ]
     },
     "execution_count": 13,
     "metadata": {},
     "output_type": "execute_result"
    }
   ],
   "source": [
    "vectorizer=CountVectorizer(stop_words=\"english\")\n",
    "vectorizer"
   ]
  },
  {
   "cell_type": "markdown",
   "metadata": {},
   "source": [
    "Ahora ya tenemos todas nuestras palabras tagueadas"
   ]
  },
  {
   "cell_type": "code",
   "execution_count": 14,
   "metadata": {},
   "outputs": [
    {
     "data": {
      "text/plain": [
       "array([[0, 0, 0, ..., 0, 0, 0],\n",
       "       [0, 0, 0, ..., 0, 0, 0],\n",
       "       [0, 0, 0, ..., 0, 0, 0],\n",
       "       ...,\n",
       "       [0, 0, 1, ..., 0, 0, 0],\n",
       "       [0, 0, 0, ..., 0, 0, 0],\n",
       "       [0, 0, 0, ..., 0, 0, 0]])"
      ]
     },
     "execution_count": 14,
     "metadata": {},
     "output_type": "execute_result"
    }
   ],
   "source": [
    "X=vectorizer.fit_transform(datos[\"columnas_comparadoras\"]).toarray()\n",
    "X[:10]"
   ]
  },
  {
   "cell_type": "code",
   "execution_count": 15,
   "metadata": {},
   "outputs": [],
   "source": [
    "similarity=cosine_similarity(X)\n"
   ]
  },
  {
   "cell_type": "code",
   "execution_count": 16,
   "metadata": {},
   "outputs": [],
   "source": [
    "def get_index_from_name(name,df):\n",
    "    return df[df.name==name].index[0]\n",
    "\n",
    "\n",
    "def get_name_from_index(index,df):\n",
    "    return df[df.index==index][\"name\"].values[0]"
   ]
  },
  {
   "cell_type": "code",
   "execution_count": 17,
   "metadata": {},
   "outputs": [
    {
     "data": {
      "text/plain": [
       "np.int64(4)"
      ]
     },
     "execution_count": 17,
     "metadata": {},
     "output_type": "execute_result"
    }
   ],
   "source": [
    "user_like_game=\"ELDEN RING\"\n",
    "game_index= get_index_from_name(user_like_game, datos)   #esto me devuelve el indice de la peli del usuario\n",
    "game_index"
   ]
  },
  {
   "cell_type": "markdown",
   "metadata": {},
   "source": [
    "aqui sacamos los indices y distancias del resto de las pelis resecto a nuestra peli"
   ]
  },
  {
   "cell_type": "code",
   "execution_count": 18,
   "metadata": {},
   "outputs": [
    {
     "data": {
      "text/plain": [
       "[(0, np.float64(0.22185983431872888)),\n",
       " (1, np.float64(0.09117943031028607)),\n",
       " (2, np.float64(0.1699855199942064)),\n",
       " (3, np.float64(0.19972593066017022)),\n",
       " (4, np.float64(1.0))]"
      ]
     },
     "execution_count": 18,
     "metadata": {},
     "output_type": "execute_result"
    }
   ],
   "source": [
    "similar_games=list(enumerate(similarity[game_index]))\n",
    "similar_games[:5]"
   ]
  },
  {
   "cell_type": "markdown",
   "metadata": {},
   "source": [
    "Lo ordenamos para que nos de las pelis que más se parecen a nuestra peli"
   ]
  },
  {
   "cell_type": "code",
   "execution_count": 19,
   "metadata": {},
   "outputs": [
    {
     "data": {
      "text/plain": [
       "[(4, np.float64(1.0)),\n",
       " (41, np.float64(0.32277711566027)),\n",
       " (10, np.float64(0.2857177524264819)),\n",
       " (36, np.float64(0.28482234759343916)),\n",
       " (22, np.float64(0.2800833148042275))]"
      ]
     },
     "execution_count": 19,
     "metadata": {},
     "output_type": "execute_result"
    }
   ],
   "source": [
    "sorted_movies=sorted(similar_games, key=lambda x: x[1], reverse=True)\n",
    "sorted_movies[:5]"
   ]
  },
  {
   "cell_type": "code",
   "execution_count": 20,
   "metadata": {},
   "outputs": [
    {
     "data": {
      "text/plain": [
       "{'The Elder Scrolls® Online': np.float64(0.32277711566027),\n",
       " 'Cyberpunk 2077: Phantom Liberty': np.float64(0.2857177524264819),\n",
       " 'Diablo® IV': np.float64(0.28482234759343916),\n",
       " 'The First Descendant': np.float64(0.2800833148042275),\n",
       " 'DARK SOULS™ III': np.float64(0.2768852547937683),\n",
       " 'ELDEN RING Shadow of the Erdtree': np.float64(0.2717810774556866),\n",
       " 'Hogwarts Legacy': np.float64(0.2702181120846626),\n",
       " 'Path of Exile': np.float64(0.26420817585354067),\n",
       " 'Grounded': np.float64(0.25447559241323076),\n",
       " 'Dota 2': np.float64(0.24915501750446026),\n",
       " \"Dragon's Dogma 2\": np.float64(0.24471416133959328),\n",
       " 'The Crew™ 2': np.float64(0.2412380972855618),\n",
       " 'Fallout 4': np.float64(0.2344180808877151),\n",
       " 'Ale & Tale Tavern': np.float64(0.23063607346408938),\n",
       " 'Divinity: Original Sin 2 - Definitive Edition': np.float64(0.23059267191633048),\n",
       " 'Valheim': np.float64(0.22980850258737767),\n",
       " 'The Witcher 3: Wild Hunt': np.float64(0.22718341508030823),\n",
       " 'The Elder Scrolls V: Skyrim Special Edition': np.float64(0.22499820633522405),\n",
       " 'Warframe': np.float64(0.22428209815290157),\n",
       " 'Black Myth: Wukong': np.float64(0.22185983431872888)}"
      ]
     },
     "execution_count": 20,
     "metadata": {},
     "output_type": "execute_result"
    }
   ],
   "source": [
    "top_game ={}\n",
    "for i in sorted_movies[1:21]:\n",
    "    top_game[get_name_from_index(i[0], datos)]=i[1]\n",
    "top_game"
   ]
  },
  {
   "cell_type": "markdown",
   "metadata": {},
   "source": [
    "### AHORA PONGO A PRUEBA MI SISTEMA DE RECOMENDACIÓN CON 5 JUEGOS AL AZAR"
   ]
  },
  {
   "cell_type": "code",
   "execution_count": 32,
   "metadata": {},
   "outputs": [],
   "source": [
    "conjunto_prueba=list(datos[\"name\"].sample(5, random_state=42))"
   ]
  },
  {
   "cell_type": "code",
   "execution_count": 33,
   "metadata": {},
   "outputs": [
    {
     "data": {
      "text/plain": [
       "['Sonic Frontiers',\n",
       " 'Descenders',\n",
       " 'Risk of Rain 2',\n",
       " 'Slime Rancher',\n",
       " 'theHunter: Call of the Wild™']"
      ]
     },
     "execution_count": 33,
     "metadata": {},
     "output_type": "execute_result"
    }
   ],
   "source": [
    "conjunto_prueba"
   ]
  },
  {
   "cell_type": "code",
   "execution_count": 35,
   "metadata": {},
   "outputs": [
    {
     "data": {
      "text/plain": [
       "{'Hollow Knight': np.float64(0.35376927581575107),\n",
       " 'Forza Horizon 5': np.float64(0.32294863751294417),\n",
       " 'ELDEN RING Shadow of the Erdtree': np.float64(0.2951094713158346),\n",
       " 'Hogwarts Legacy': np.float64(0.294491070307201),\n",
       " 'Borderlands 2': np.float64(0.27852318295812006),\n",
       " 'Fallout: New Vegas': np.float64(0.26807844697524263),\n",
       " \"Dragon's Dogma 2\": np.float64(0.26301544996009785),\n",
       " 'Gunfire Reborn': np.float64(0.2547749038131039),\n",
       " 'Diablo® IV': np.float64(0.2511794681419141),\n",
       " 'Visions of Mana': np.float64(0.25110440111401955)}"
      ]
     },
     "metadata": {},
     "output_type": "display_data"
    },
    {
     "data": {
      "text/plain": [
       "{'EA SPORTS™ Madden NFL 25': np.float64(0.3509040568767734),\n",
       " 'F1® Manager 2024': np.float64(0.29096966022793597),\n",
       " 'eFootball™': np.float64(0.26014699899298427),\n",
       " \"Tom Clancy's Rainbow Six® Siege\": np.float64(0.23421229988159897),\n",
       " 'World of Tanks': np.float64(0.22103807127148764),\n",
       " 'Game Dev Tycoon': np.float64(0.19843356300250437),\n",
       " 'PUBG: BATTLEGROUNDS': np.float64(0.19263546233804263),\n",
       " 'Team Fortress 2': np.float64(0.19106832947036512),\n",
       " 'LOCKDOWN Protocol': np.float64(0.19082131148799952),\n",
       " 'DiRT Rally 2.0': np.float64(0.17664114551889942)}"
      ]
     },
     "metadata": {},
     "output_type": "display_data"
    },
    {
     "data": {
      "text/plain": [
       "{'Gunfire Reborn': np.float64(0.3489758774573249),\n",
       " 'Borderlands 2': np.float64(0.33411928336095853),\n",
       " 'Left 4 Dead 2': np.float64(0.3266386465125491),\n",
       " 'Vampire Survivors': np.float64(0.2813319050365181),\n",
       " 'Hollow Knight': np.float64(0.27587424226704627),\n",
       " 'ELDEN RING Shadow of the Erdtree': np.float64(0.27050033401953),\n",
       " 'EA SPORTS FC™ 24': np.float64(0.267792670136185),\n",
       " 'Call of Duty®: Warzone™': np.float64(0.2653679994043582),\n",
       " 'Motordoom': np.float64(0.26503027584015004),\n",
       " 'Team Fortress 2': np.float64(0.2626594605044535)}"
      ]
     },
     "metadata": {},
     "output_type": "display_data"
    },
    {
     "data": {
      "text/plain": [
       "{'Core Keeper': np.float64(0.23044220760431694),\n",
       " 'Ale & Tale Tavern': np.float64(0.22582676042711475),\n",
       " 'Fallout 4': np.float64(0.21774600264264088),\n",
       " 'Terraria': np.float64(0.21571180751361685),\n",
       " 'Valheim': np.float64(0.2136994073431811),\n",
       " 'Satisfactory': np.float64(0.20720722589321167),\n",
       " 'The Elder Scrolls® Online': np.float64(0.2064763339300389),\n",
       " 'Grounded': np.float64(0.20224770167392253),\n",
       " 'The Witcher 3: Wild Hunt': np.float64(0.1993914605873603),\n",
       " 'Mount & Blade II: Bannerlord': np.float64(0.1959456260246403)}"
      ]
     },
     "metadata": {},
     "output_type": "display_data"
    },
    {
     "data": {
      "text/plain": [
       "{'Fishing Planet': np.float64(0.2833000170779653),\n",
       " 'The Crew™ 2': np.float64(0.2596570636873982),\n",
       " 'Forza Horizon 5': np.float64(0.23052348874162368),\n",
       " 'Arma 3': np.float64(0.2300637831529964),\n",
       " 'Ale & Tale Tavern': np.float64(0.22838591162312186),\n",
       " '7 Days to Die': np.float64(0.22421816503027936),\n",
       " 'Terraria': np.float64(0.2190076741597075),\n",
       " 'RIDE 4': np.float64(0.218549470413572),\n",
       " 'World of Tanks': np.float64(0.2174986490634646),\n",
       " 'Russian Fishing 4': np.float64(0.21482601273991536)}"
      ]
     },
     "metadata": {},
     "output_type": "display_data"
    }
   ],
   "source": [
    "for juego in conjunto_prueba:  \n",
    "    user_like_game=juego\n",
    "\n",
    "    game_index= get_index_from_name(user_like_game, datos)   #esto me devuelve el indice de la peli del usuario\n",
    "\n",
    "    #Aqui sacamos los indices y distancias del resto de las pelis resecto a nuestra peli\n",
    "    similar_games=list(enumerate(similarity[game_index]))\n",
    "\n",
    "    #Lo ordenamos para que nos de las pelis que más se parecen a nuestra peli\n",
    "    sorted_movies=sorted(similar_games, key=lambda x: x[1], reverse=True)\n",
    "\n",
    "    top_game ={}\n",
    "    for i in sorted_movies[1:11]:\n",
    "        top_game[get_name_from_index(i[0], datos)]=i[1]\n",
    "    display(top_game)"
   ]
  },
  {
   "cell_type": "markdown",
   "metadata": {},
   "source": [
    "**RECOMENDACION POR PUNTUACIÓN**"
   ]
  },
  {
   "cell_type": "code",
   "execution_count": 45,
   "metadata": {},
   "outputs": [],
   "source": [
    "ratings=pd.read_csv(\"datos/games_ranking.csv\")"
   ]
  },
  {
   "cell_type": "code",
   "execution_count": 46,
   "metadata": {},
   "outputs": [
    {
     "data": {
      "text/html": [
       "<div>\n",
       "<style scoped>\n",
       "    .dataframe tbody tr th:only-of-type {\n",
       "        vertical-align: middle;\n",
       "    }\n",
       "\n",
       "    .dataframe tbody tr th {\n",
       "        vertical-align: top;\n",
       "    }\n",
       "\n",
       "    .dataframe thead th {\n",
       "        text-align: right;\n",
       "    }\n",
       "</style>\n",
       "<table border=\"1\" class=\"dataframe\">\n",
       "  <thead>\n",
       "    <tr style=\"text-align: right;\">\n",
       "      <th></th>\n",
       "      <th>game_name</th>\n",
       "      <th>genre</th>\n",
       "      <th>rank_type</th>\n",
       "      <th>rank</th>\n",
       "    </tr>\n",
       "  </thead>\n",
       "  <tbody>\n",
       "    <tr>\n",
       "      <th>0</th>\n",
       "      <td>Counter-Strike 2</td>\n",
       "      <td>Action</td>\n",
       "      <td>Sales</td>\n",
       "      <td>1</td>\n",
       "    </tr>\n",
       "    <tr>\n",
       "      <th>1</th>\n",
       "      <td>Warhammer 40,000: Space Marine 2</td>\n",
       "      <td>Action</td>\n",
       "      <td>Sales</td>\n",
       "      <td>2</td>\n",
       "    </tr>\n",
       "    <tr>\n",
       "      <th>2</th>\n",
       "      <td>Cyberpunk 2077</td>\n",
       "      <td>Action</td>\n",
       "      <td>Sales</td>\n",
       "      <td>3</td>\n",
       "    </tr>\n",
       "    <tr>\n",
       "      <th>3</th>\n",
       "      <td>Black Myth: Wukong</td>\n",
       "      <td>Action</td>\n",
       "      <td>Sales</td>\n",
       "      <td>4</td>\n",
       "    </tr>\n",
       "    <tr>\n",
       "      <th>4</th>\n",
       "      <td>ELDEN RING</td>\n",
       "      <td>Action</td>\n",
       "      <td>Sales</td>\n",
       "      <td>5</td>\n",
       "    </tr>\n",
       "    <tr>\n",
       "      <th>...</th>\n",
       "      <td>...</td>\n",
       "      <td>...</td>\n",
       "      <td>...</td>\n",
       "      <td>...</td>\n",
       "    </tr>\n",
       "    <tr>\n",
       "      <th>667</th>\n",
       "      <td>MXGP PRO</td>\n",
       "      <td>Sports &amp; Racing</td>\n",
       "      <td>Review</td>\n",
       "      <td>36</td>\n",
       "    </tr>\n",
       "    <tr>\n",
       "      <th>668</th>\n",
       "      <td>MXGP 2019 - The Official Motocross Videogame</td>\n",
       "      <td>Sports &amp; Racing</td>\n",
       "      <td>Review</td>\n",
       "      <td>37</td>\n",
       "    </tr>\n",
       "    <tr>\n",
       "      <th>669</th>\n",
       "      <td>Ride 2</td>\n",
       "      <td>Sports &amp; Racing</td>\n",
       "      <td>Review</td>\n",
       "      <td>38</td>\n",
       "    </tr>\n",
       "    <tr>\n",
       "      <th>670</th>\n",
       "      <td>Tanuki Sunset</td>\n",
       "      <td>Sports &amp; Racing</td>\n",
       "      <td>Review</td>\n",
       "      <td>39</td>\n",
       "    </tr>\n",
       "    <tr>\n",
       "      <th>671</th>\n",
       "      <td>Grand Mountain Adventure: Wonderlands</td>\n",
       "      <td>Sports &amp; Racing</td>\n",
       "      <td>Review</td>\n",
       "      <td>40</td>\n",
       "    </tr>\n",
       "  </tbody>\n",
       "</table>\n",
       "<p>672 rows × 4 columns</p>\n",
       "</div>"
      ],
      "text/plain": [
       "                                        game_name            genre rank_type  \\\n",
       "0                                Counter-Strike 2           Action     Sales   \n",
       "1                Warhammer 40,000: Space Marine 2           Action     Sales   \n",
       "2                                  Cyberpunk 2077           Action     Sales   \n",
       "3                              Black Myth: Wukong           Action     Sales   \n",
       "4                                      ELDEN RING           Action     Sales   \n",
       "..                                            ...              ...       ...   \n",
       "667                                      MXGP PRO  Sports & Racing    Review   \n",
       "668  MXGP 2019 - The Official Motocross Videogame  Sports & Racing    Review   \n",
       "669                                        Ride 2  Sports & Racing    Review   \n",
       "670                                 Tanuki Sunset  Sports & Racing    Review   \n",
       "671         Grand Mountain Adventure: Wonderlands  Sports & Racing    Review   \n",
       "\n",
       "     rank  \n",
       "0       1  \n",
       "1       2  \n",
       "2       3  \n",
       "3       4  \n",
       "4       5  \n",
       "..    ...  \n",
       "667    36  \n",
       "668    37  \n",
       "669    38  \n",
       "670    39  \n",
       "671    40  \n",
       "\n",
       "[672 rows x 4 columns]"
      ]
     },
     "execution_count": 46,
     "metadata": {},
     "output_type": "execute_result"
    }
   ],
   "source": [
    "ratings"
   ]
  },
  {
   "cell_type": "code",
   "execution_count": null,
   "metadata": {},
   "outputs": [],
   "source": [
    "ratings.set_index(\"Movie\", inplace=True)"
   ]
  },
  {
   "cell_type": "code",
   "execution_count": null,
   "metadata": {},
   "outputs": [],
   "source": [
    "def plot_ratings_por_peli(peli1,peli2):\n",
    "    x=ratings.T[peli1]\n",
    "    y=ratings.T[peli2]\n",
    "\n",
    "    n=list(ratings.columns)\n",
    "\n",
    "    plt.figure(figsize=(10,7))\n",
    "\n",
    "    plt.scatter(x,y)\n",
    "    plt.title(f\"{peli1} VS {peli2}\")\n",
    "    plt.xlabel(peli1)\n",
    "    plt.ylabel(peli2)\n",
    "\n",
    "    "
   ]
  },
  {
   "cell_type": "code",
   "execution_count": null,
   "metadata": {},
   "outputs": [
    {
     "data": {
      "image/png": "[encoded data removed]",
      "text/plain": [
       "<Figure size 1000x700 with 1 Axes>"
      ]
     },
     "metadata": {},
     "output_type": "display_data"
    }
   ],
   "source": [
    "plot_ratings_por_peli(\"Aquaman\", \"Venom\")"
   ]
  },
  {
   "cell_type": "code",
   "execution_count": null,
   "metadata": {},
   "outputs": [
    {
     "data": {
      "text/plain": [
       "array([6.63324958, 6.        , 7.41619849, 7.48331477, 6.92820323,\n",
       "       6.40312424, 5.09901951, 5.56776436, 8.24621125, 6.70820393])"
      ]
     },
     "metadata": {},
     "output_type": "display_data"
    }
   ],
   "source": [
    "pdist(ratings.T, \"euclidean\")"
   ]
  },
  {
   "cell_type": "code",
   "execution_count": null,
   "metadata": {},
   "outputs": [
    {
     "data": {
      "text/plain": [
       "array([[0.        , 6.63324958, 6.        , 7.41619849, 7.48331477],\n",
       "       [6.63324958, 0.        , 6.92820323, 6.40312424, 5.09901951],\n",
       "       [6.        , 6.92820323, 0.        , 5.56776436, 8.24621125],\n",
       "       [7.41619849, 6.40312424, 5.56776436, 0.        , 6.70820393],\n",
       "       [7.48331477, 5.09901951, 8.24621125, 6.70820393, 0.        ]])"
      ]
     },
     "metadata": {},
     "output_type": "display_data"
    }
   ],
   "source": [
    "distancias= squareform(pdist(ratings.T, \"euclidean\"))\n",
    "distancias"
   ]
  },
  {
   "cell_type": "markdown",
   "metadata": {},
   "source": [
    "Aquí normalizamos las distancias"
   ]
  },
  {
   "cell_type": "code",
   "execution_count": null,
   "metadata": {},
   "outputs": [],
   "source": [
    "similitud= 1/(1+distancias)"
   ]
  },
  {
   "cell_type": "code",
   "execution_count": null,
   "metadata": {},
   "outputs": [
    {
     "data": {
      "text/html": [
       "<div>\n",
       "<style scoped>\n",
       "    .dataframe tbody tr th:only-of-type {\n",
       "        vertical-align: middle;\n",
       "    }\n",
       "\n",
       "    .dataframe tbody tr th {\n",
       "        vertical-align: top;\n",
       "    }\n",
       "\n",
       "    .dataframe thead th {\n",
       "        text-align: right;\n",
       "    }\n",
       "</style>\n",
       "<table border=\"1\" class=\"dataframe\">\n",
       "  <thead>\n",
       "    <tr style=\"text-align: right;\">\n",
       "      <th></th>\n",
       "      <th>Brandon</th>\n",
       "      <th>Emily</th>\n",
       "      <th>Cleo</th>\n",
       "      <th>Rusty</th>\n",
       "      <th>Samantha</th>\n",
       "    </tr>\n",
       "  </thead>\n",
       "  <tbody>\n",
       "    <tr>\n",
       "      <th>Brandon</th>\n",
       "      <td>1.000000</td>\n",
       "      <td>0.131006</td>\n",
       "      <td>0.142857</td>\n",
       "      <td>0.118818</td>\n",
       "      <td>0.117878</td>\n",
       "    </tr>\n",
       "    <tr>\n",
       "      <th>Emily</th>\n",
       "      <td>0.131006</td>\n",
       "      <td>1.000000</td>\n",
       "      <td>0.126132</td>\n",
       "      <td>0.135078</td>\n",
       "      <td>0.163961</td>\n",
       "    </tr>\n",
       "    <tr>\n",
       "      <th>Cleo</th>\n",
       "      <td>0.142857</td>\n",
       "      <td>0.126132</td>\n",
       "      <td>1.000000</td>\n",
       "      <td>0.152259</td>\n",
       "      <td>0.108152</td>\n",
       "    </tr>\n",
       "    <tr>\n",
       "      <th>Rusty</th>\n",
       "      <td>0.118818</td>\n",
       "      <td>0.135078</td>\n",
       "      <td>0.152259</td>\n",
       "      <td>1.000000</td>\n",
       "      <td>0.129732</td>\n",
       "    </tr>\n",
       "    <tr>\n",
       "      <th>Samantha</th>\n",
       "      <td>0.117878</td>\n",
       "      <td>0.163961</td>\n",
       "      <td>0.108152</td>\n",
       "      <td>0.129732</td>\n",
       "      <td>1.000000</td>\n",
       "    </tr>\n",
       "  </tbody>\n",
       "</table>\n",
       "</div>"
      ],
      "text/plain": [
       "           Brandon     Emily      Cleo     Rusty  Samantha\n",
       "Brandon   1.000000  0.131006  0.142857  0.118818  0.117878\n",
       "Emily     0.131006  1.000000  0.126132  0.135078  0.163961\n",
       "Cleo      0.142857  0.126132  1.000000  0.152259  0.108152\n",
       "Rusty     0.118818  0.135078  0.152259  1.000000  0.129732\n",
       "Samantha  0.117878  0.163961  0.108152  0.129732  1.000000"
      ]
     },
     "metadata": {},
     "output_type": "display_data"
    }
   ],
   "source": [
    "pd.DataFrame(similitud, columns=ratings.columns, index=ratings.columns)"
   ]
  },
  {
   "cell_type": "markdown",
   "metadata": {},
   "source": [
    "***Generamos un nuevo usuario***"
   ]
  },
  {
   "cell_type": "code",
   "execution_count": null,
   "metadata": {},
   "outputs": [
    {
     "data": {
      "text/plain": [
       "Index(['Aquaman', 'Avengers: Infinity War', 'Black Panther',\n",
       "       'Bohemian Rhapsody', 'Deadpool 2',\n",
       "       'Fantastic Beasts: The Crimes of Grindelwald', 'Incredibles 2',\n",
       "       'Jurassic World: Fallen Kingdom', 'Mission: Impossible – Fallout',\n",
       "       'Venom'],\n",
       "      dtype='object', name='Movie')"
      ]
     },
     "metadata": {},
     "output_type": "display_data"
    }
   ],
   "source": [
    "ratings.T.columns"
   ]
  },
  {
   "cell_type": "code",
   "execution_count": null,
   "metadata": {},
   "outputs": [],
   "source": []
  }
 ],
 "metadata": {
  "kernelspec": {
   "display_name": "Python 3",
   "language": "python",
   "name": "python3"
  },
  "language_info": {
   "codemirror_mode": {
    "name": "ipython",
    "version": 3
   },
   "file_extension": ".py",
   "mimetype": "text/x-python",
   "name": "python",
   "nbconvert_exporter": "python",
   "pygments_lexer": "ipython3",
   "version": "3.11.9"
  }
 },
 "nbformat": 4,
 "nbformat_minor": 2
}
